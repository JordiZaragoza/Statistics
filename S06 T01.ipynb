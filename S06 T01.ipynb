{
 "cells": [
  {
   "cell_type": "markdown",
   "id": "b85f89cd",
   "metadata": {},
   "source": [
    "# Nivel 1"
   ]
  },
  {
   "cell_type": "markdown",
   "id": "8df5efb8",
   "metadata": {},
   "source": [
    "## Ejercicio 1"
   ]
  },
  {
   "cell_type": "markdown",
   "id": "00357b8b",
   "metadata": {},
   "source": [
    "### *Coge un conjunto de datos de tema deportivo que te guste y selecciona un atributo del conjunto de datos. Calcula la moda, la mediana, la desviacion estandard, y la mediana aritmetica*"
   ]
  },
  {
   "cell_type": "code",
   "execution_count": 1,
   "id": "32459e21",
   "metadata": {},
   "outputs": [],
   "source": [
    "import numpy as np\n",
    "import pandas as pd\n",
    "import math"
   ]
  },
  {
   "cell_type": "code",
   "execution_count": 2,
   "id": "7027749f",
   "metadata": {
    "scrolled": true
   },
   "outputs": [
    {
     "data": {
      "text/html": [
       "<div>\n",
       "<style scoped>\n",
       "    .dataframe tbody tr th:only-of-type {\n",
       "        vertical-align: middle;\n",
       "    }\n",
       "\n",
       "    .dataframe tbody tr th {\n",
       "        vertical-align: top;\n",
       "    }\n",
       "\n",
       "    .dataframe thead th {\n",
       "        text-align: right;\n",
       "    }\n",
       "</style>\n",
       "<table border=\"1\" class=\"dataframe\">\n",
       "  <thead>\n",
       "    <tr style=\"text-align: right;\">\n",
       "      <th></th>\n",
       "      <th>Rank_Tot</th>\n",
       "      <th>Age</th>\n",
       "      <th>Gender</th>\n",
       "      <th>Country</th>\n",
       "      <th>Result_hr</th>\n",
       "      <th>Result_sec</th>\n",
       "      <th>Rank_Gender</th>\n",
       "      <th>Country_code</th>\n",
       "    </tr>\n",
       "  </thead>\n",
       "  <tbody>\n",
       "    <tr>\n",
       "      <th>0</th>\n",
       "      <td>1</td>\n",
       "      <td>30</td>\n",
       "      <td>M</td>\n",
       "      <td>Kenya</td>\n",
       "      <td>2:07:57</td>\n",
       "      <td>7677</td>\n",
       "      <td>1</td>\n",
       "      <td>KEN</td>\n",
       "    </tr>\n",
       "    <tr>\n",
       "      <th>1</th>\n",
       "      <td>2</td>\n",
       "      <td>29</td>\n",
       "      <td>M</td>\n",
       "      <td>Ethiopia</td>\n",
       "      <td>2:07:59</td>\n",
       "      <td>7679</td>\n",
       "      <td>2</td>\n",
       "      <td>ETH</td>\n",
       "    </tr>\n",
       "    <tr>\n",
       "      <th>2</th>\n",
       "      <td>3</td>\n",
       "      <td>34</td>\n",
       "      <td>M</td>\n",
       "      <td>Kenya</td>\n",
       "      <td>2:08:07</td>\n",
       "      <td>7687</td>\n",
       "      <td>3</td>\n",
       "      <td>KEN</td>\n",
       "    </tr>\n",
       "    <tr>\n",
       "      <th>3</th>\n",
       "      <td>4</td>\n",
       "      <td>32</td>\n",
       "      <td>M</td>\n",
       "      <td>Kenya</td>\n",
       "      <td>2:08:54</td>\n",
       "      <td>7734</td>\n",
       "      <td>4</td>\n",
       "      <td>KEN</td>\n",
       "    </tr>\n",
       "    <tr>\n",
       "      <th>4</th>\n",
       "      <td>5</td>\n",
       "      <td>26</td>\n",
       "      <td>M</td>\n",
       "      <td>Kenya</td>\n",
       "      <td>2:08:55</td>\n",
       "      <td>7735</td>\n",
       "      <td>5</td>\n",
       "      <td>KEN</td>\n",
       "    </tr>\n",
       "    <tr>\n",
       "      <th>...</th>\n",
       "      <td>...</td>\n",
       "      <td>...</td>\n",
       "      <td>...</td>\n",
       "      <td>...</td>\n",
       "      <td>...</td>\n",
       "      <td>...</td>\n",
       "      <td>...</td>\n",
       "      <td>...</td>\n",
       "    </tr>\n",
       "    <tr>\n",
       "      <th>26646</th>\n",
       "      <td>26640</td>\n",
       "      <td>44</td>\n",
       "      <td>F</td>\n",
       "      <td>United States</td>\n",
       "      <td>6:21:19</td>\n",
       "      <td>22879</td>\n",
       "      <td>11977</td>\n",
       "      <td>USA</td>\n",
       "    </tr>\n",
       "    <tr>\n",
       "      <th>26647</th>\n",
       "      <td>26641</td>\n",
       "      <td>50</td>\n",
       "      <td>F</td>\n",
       "      <td>United States</td>\n",
       "      <td>6:22:27</td>\n",
       "      <td>22947</td>\n",
       "      <td>11978</td>\n",
       "      <td>USA</td>\n",
       "    </tr>\n",
       "    <tr>\n",
       "      <th>26648</th>\n",
       "      <td>26648</td>\n",
       "      <td>32</td>\n",
       "      <td>F</td>\n",
       "      <td>United States</td>\n",
       "      <td>6:35:50</td>\n",
       "      <td>23750</td>\n",
       "      <td>11979</td>\n",
       "      <td>USA</td>\n",
       "    </tr>\n",
       "    <tr>\n",
       "      <th>26649</th>\n",
       "      <td>26650</td>\n",
       "      <td>55</td>\n",
       "      <td>F</td>\n",
       "      <td>United States</td>\n",
       "      <td>6:53:38</td>\n",
       "      <td>24818</td>\n",
       "      <td>11980</td>\n",
       "      <td>USA</td>\n",
       "    </tr>\n",
       "    <tr>\n",
       "      <th>26650</th>\n",
       "      <td>26652</td>\n",
       "      <td>46</td>\n",
       "      <td>F</td>\n",
       "      <td>United States</td>\n",
       "      <td>6:59:57</td>\n",
       "      <td>25197</td>\n",
       "      <td>11981</td>\n",
       "      <td>USA</td>\n",
       "    </tr>\n",
       "  </tbody>\n",
       "</table>\n",
       "<p>26651 rows × 8 columns</p>\n",
       "</div>"
      ],
      "text/plain": [
       "       Rank_Tot  Age Gender        Country Result_hr  Result_sec  Rank_Gender  \\\n",
       "0             1   30      M          Kenya   2:07:57        7677            1   \n",
       "1             2   29      M       Ethiopia   2:07:59        7679            2   \n",
       "2             3   34      M          Kenya   2:08:07        7687            3   \n",
       "3             4   32      M          Kenya   2:08:54        7734            4   \n",
       "4             5   26      M          Kenya   2:08:55        7735            5   \n",
       "...         ...  ...    ...            ...       ...         ...          ...   \n",
       "26646     26640   44      F  United States   6:21:19       22879        11977   \n",
       "26647     26641   50      F  United States   6:22:27       22947        11978   \n",
       "26648     26648   32      F  United States   6:35:50       23750        11979   \n",
       "26649     26650   55      F  United States   6:53:38       24818        11980   \n",
       "26650     26652   46      F  United States   6:59:57       25197        11981   \n",
       "\n",
       "      Country_code  \n",
       "0              KEN  \n",
       "1              ETH  \n",
       "2              KEN  \n",
       "3              KEN  \n",
       "4              KEN  \n",
       "...            ...  \n",
       "26646          USA  \n",
       "26647          USA  \n",
       "26648          USA  \n",
       "26649          USA  \n",
       "26650          USA  \n",
       "\n",
       "[26651 rows x 8 columns]"
      ]
     },
     "execution_count": 2,
     "metadata": {},
     "output_type": "execute_result"
    }
   ],
   "source": [
    "marathon_df = pd.read_csv('Dataset-Boston-2019.csv')\n",
    "marathon_df"
   ]
  },
  {
   "cell_type": "code",
   "execution_count": 3,
   "id": "64f475e1",
   "metadata": {},
   "outputs": [
    {
     "data": {
      "text/html": [
       "<div>\n",
       "<style scoped>\n",
       "    .dataframe tbody tr th:only-of-type {\n",
       "        vertical-align: middle;\n",
       "    }\n",
       "\n",
       "    .dataframe tbody tr th {\n",
       "        vertical-align: top;\n",
       "    }\n",
       "\n",
       "    .dataframe thead th {\n",
       "        text-align: right;\n",
       "    }\n",
       "</style>\n",
       "<table border=\"1\" class=\"dataframe\">\n",
       "  <thead>\n",
       "    <tr style=\"text-align: right;\">\n",
       "      <th></th>\n",
       "      <th>Age</th>\n",
       "      <th>Gender</th>\n",
       "      <th>Result_sec</th>\n",
       "    </tr>\n",
       "  </thead>\n",
       "  <tbody>\n",
       "    <tr>\n",
       "      <th>0</th>\n",
       "      <td>30</td>\n",
       "      <td>M</td>\n",
       "      <td>7677</td>\n",
       "    </tr>\n",
       "    <tr>\n",
       "      <th>1</th>\n",
       "      <td>29</td>\n",
       "      <td>M</td>\n",
       "      <td>7679</td>\n",
       "    </tr>\n",
       "    <tr>\n",
       "      <th>2</th>\n",
       "      <td>34</td>\n",
       "      <td>M</td>\n",
       "      <td>7687</td>\n",
       "    </tr>\n",
       "    <tr>\n",
       "      <th>3</th>\n",
       "      <td>32</td>\n",
       "      <td>M</td>\n",
       "      <td>7734</td>\n",
       "    </tr>\n",
       "    <tr>\n",
       "      <th>4</th>\n",
       "      <td>26</td>\n",
       "      <td>M</td>\n",
       "      <td>7735</td>\n",
       "    </tr>\n",
       "    <tr>\n",
       "      <th>...</th>\n",
       "      <td>...</td>\n",
       "      <td>...</td>\n",
       "      <td>...</td>\n",
       "    </tr>\n",
       "    <tr>\n",
       "      <th>26646</th>\n",
       "      <td>44</td>\n",
       "      <td>F</td>\n",
       "      <td>22879</td>\n",
       "    </tr>\n",
       "    <tr>\n",
       "      <th>26647</th>\n",
       "      <td>50</td>\n",
       "      <td>F</td>\n",
       "      <td>22947</td>\n",
       "    </tr>\n",
       "    <tr>\n",
       "      <th>26648</th>\n",
       "      <td>32</td>\n",
       "      <td>F</td>\n",
       "      <td>23750</td>\n",
       "    </tr>\n",
       "    <tr>\n",
       "      <th>26649</th>\n",
       "      <td>55</td>\n",
       "      <td>F</td>\n",
       "      <td>24818</td>\n",
       "    </tr>\n",
       "    <tr>\n",
       "      <th>26650</th>\n",
       "      <td>46</td>\n",
       "      <td>F</td>\n",
       "      <td>25197</td>\n",
       "    </tr>\n",
       "  </tbody>\n",
       "</table>\n",
       "<p>26651 rows × 3 columns</p>\n",
       "</div>"
      ],
      "text/plain": [
       "       Age Gender  Result_sec\n",
       "0       30      M        7677\n",
       "1       29      M        7679\n",
       "2       34      M        7687\n",
       "3       32      M        7734\n",
       "4       26      M        7735\n",
       "...    ...    ...         ...\n",
       "26646   44      F       22879\n",
       "26647   50      F       22947\n",
       "26648   32      F       23750\n",
       "26649   55      F       24818\n",
       "26650   46      F       25197\n",
       "\n",
       "[26651 rows x 3 columns]"
      ]
     },
     "execution_count": 3,
     "metadata": {},
     "output_type": "execute_result"
    }
   ],
   "source": [
    "marathon_df = marathon_df[['Age', 'Gender', 'Result_sec']]\n",
    "marathon_df"
   ]
  },
  {
   "cell_type": "code",
   "execution_count": 4,
   "id": "b1361687",
   "metadata": {},
   "outputs": [
    {
     "data": {
      "text/plain": [
       "0        30\n",
       "1        29\n",
       "2        34\n",
       "3        32\n",
       "4        26\n",
       "         ..\n",
       "26646    44\n",
       "26647    50\n",
       "26648    32\n",
       "26649    55\n",
       "26650    46\n",
       "Name: Age, Length: 26651, dtype: int64"
      ]
     },
     "execution_count": 4,
     "metadata": {},
     "output_type": "execute_result"
    }
   ],
   "source": [
    "Age_df = marathon_df['Age']\n",
    "Age_df"
   ]
  },
  {
   "cell_type": "markdown",
   "id": "9bf170da",
   "metadata": {},
   "source": [
    "#### *Moda*"
   ]
  },
  {
   "cell_type": "code",
   "execution_count": 5,
   "id": "d31733c5",
   "metadata": {},
   "outputs": [],
   "source": [
    "# funcion\n",
    "def mode(dataset):\n",
    "    frequency = {}\n",
    "\n",
    "    for value in dataset:\n",
    "        frequency[value] = frequency.get(value, 0) + 1\n",
    "\n",
    "    most_frequent = max(frequency.values())\n",
    "\n",
    "    mode = [key for key, value in frequency.items()\n",
    "                      if value == most_frequent]\n",
    "\n",
    "    return mode"
   ]
  },
  {
   "cell_type": "code",
   "execution_count": 6,
   "id": "88495ee2",
   "metadata": {},
   "outputs": [
    {
     "name": "stdout",
     "output_type": "stream",
     "text": [
      "[45]\n"
     ]
    }
   ],
   "source": [
    "print(mode(Age_df))"
   ]
  },
  {
   "cell_type": "code",
   "execution_count": 7,
   "id": "070e8df8",
   "metadata": {},
   "outputs": [
    {
     "name": "stdout",
     "output_type": "stream",
     "text": [
      "45\n"
     ]
    }
   ],
   "source": [
    "# modulo\n",
    "from statistics import mode\n",
    "\n",
    "print(mode(Age_df))"
   ]
  },
  {
   "cell_type": "markdown",
   "id": "31f6f8eb",
   "metadata": {},
   "source": [
    "#### *Mediana*"
   ]
  },
  {
   "cell_type": "code",
   "execution_count": 8,
   "id": "fc8b7dfe",
   "metadata": {},
   "outputs": [],
   "source": [
    "# funcion\n",
    "def median(dataset):\n",
    "    data = sorted(dataset)\n",
    "    index = len(dataset) // 2\n",
    "    \n",
    "    # si el dataset es impar  \n",
    "    if len(dataset) % 2 != 0:\n",
    "        return data[index]\n",
    "    \n",
    "    # si el dataset es par\n",
    "    return (dataset[index - 1] + dataset[index]) / 2"
   ]
  },
  {
   "cell_type": "code",
   "execution_count": 9,
   "id": "96d304c2",
   "metadata": {},
   "outputs": [
    {
     "name": "stdout",
     "output_type": "stream",
     "text": [
      "43\n"
     ]
    }
   ],
   "source": [
    "print(median(Age_df))"
   ]
  },
  {
   "cell_type": "code",
   "execution_count": 10,
   "id": "5c89f2e8",
   "metadata": {},
   "outputs": [
    {
     "name": "stdout",
     "output_type": "stream",
     "text": [
      "43\n"
     ]
    }
   ],
   "source": [
    "# modulo\n",
    "from statistics import median\n",
    "\n",
    "print(median(Age_df))"
   ]
  },
  {
   "cell_type": "markdown",
   "id": "d394f809",
   "metadata": {},
   "source": [
    "#### *Desviacion estandard*"
   ]
  },
  {
   "cell_type": "code",
   "execution_count": 11,
   "id": "df97465e",
   "metadata": {},
   "outputs": [],
   "source": [
    "# funcion \n",
    "def st_dev(dataset):\n",
    "    mean = sum(dataset) / len(dataset)\n",
    "    var = sum((l-mean)**2 for l in dataset) / len(dataset)\n",
    "    st_dev = math.sqrt(var)\n",
    "    \n",
    "    return st_dev"
   ]
  },
  {
   "cell_type": "code",
   "execution_count": 12,
   "id": "24b8fc09",
   "metadata": {},
   "outputs": [
    {
     "name": "stdout",
     "output_type": "stream",
     "text": [
      "11.537306695601352\n"
     ]
    }
   ],
   "source": [
    "print(st_dev(Age_df))"
   ]
  },
  {
   "cell_type": "code",
   "execution_count": 13,
   "id": "ac0011c4",
   "metadata": {},
   "outputs": [
    {
     "name": "stdout",
     "output_type": "stream",
     "text": [
      "11.537306695601412\n"
     ]
    }
   ],
   "source": [
    "# modulo\n",
    "import statistics\n",
    "\n",
    "print(statistics.pstdev(Age_df))"
   ]
  },
  {
   "cell_type": "markdown",
   "id": "87255ee9",
   "metadata": {},
   "source": [
    "#### *Media aritmetica*"
   ]
  },
  {
   "cell_type": "code",
   "execution_count": 14,
   "id": "f9e125e7",
   "metadata": {},
   "outputs": [],
   "source": [
    "# funcion\n",
    "def mean(dataset):\n",
    "    return sum(dataset) / len(dataset)"
   ]
  },
  {
   "cell_type": "code",
   "execution_count": 15,
   "id": "5ba93e98",
   "metadata": {},
   "outputs": [
    {
     "name": "stdout",
     "output_type": "stream",
     "text": [
      "42.79989493827624\n"
     ]
    }
   ],
   "source": [
    "print(mean(Age_df))"
   ]
  },
  {
   "cell_type": "code",
   "execution_count": 16,
   "id": "77c88004",
   "metadata": {},
   "outputs": [
    {
     "name": "stdout",
     "output_type": "stream",
     "text": [
      "42.79989493827624\n"
     ]
    }
   ],
   "source": [
    "# modulo\n",
    "from statistics import mean\n",
    "\n",
    "print(mean(Age_df))"
   ]
  },
  {
   "cell_type": "markdown",
   "id": "0b1b4268",
   "metadata": {},
   "source": [
    "## Ejercicio 2"
   ]
  },
  {
   "cell_type": "markdown",
   "id": "6fda3afc",
   "metadata": {},
   "source": [
    "### *Continuando con los datos de tema deportivo, selecciona dos atributos y calcula su correlación*"
   ]
  },
  {
   "cell_type": "code",
   "execution_count": 17,
   "id": "2a2d7877",
   "metadata": {},
   "outputs": [],
   "source": [
    "# funcion\n",
    "def corr_coef(x, y):\n",
    "    # convierto en array\n",
    "    x = np.array(x)\n",
    "    y = np.array(y)\n",
    "\n",
    "    # tamaño\n",
    "    N = len(x)\n",
    "\n",
    "    # media aritmetica\n",
    "    xm = sum(x)/N\n",
    "    ym = sum(y)/N\n",
    "\n",
    "    # desviacion estandar \n",
    "    sx = ((sum((x - xm)**2))/N)**(1/2)\n",
    "    sy = ((sum((y - ym)**2))/N)**(1/2)\n",
    "\n",
    "    # covarianza\n",
    "    sxy = (sum(x * y) / N) - (xm * ym)\n",
    "\n",
    "    # coeficiente de correlacion\n",
    "    rxy = sxy / (sx * sy)\n",
    "\n",
    "    return rxy"
   ]
  },
  {
   "cell_type": "code",
   "execution_count": 18,
   "id": "a7b79e19",
   "metadata": {},
   "outputs": [
    {
     "name": "stdout",
     "output_type": "stream",
     "text": [
      "0.2610198547164375\n"
     ]
    }
   ],
   "source": [
    "print(corr_coef(marathon_df['Age'], marathon_df['Result_sec']))"
   ]
  },
  {
   "cell_type": "code",
   "execution_count": 19,
   "id": "bf2b71b0",
   "metadata": {},
   "outputs": [
    {
     "data": {
      "text/plain": [
       "array([[1.        , 0.26101985],\n",
       "       [0.26101985, 1.        ]])"
      ]
     },
     "execution_count": 19,
     "metadata": {},
     "output_type": "execute_result"
    }
   ],
   "source": [
    "# modulo\n",
    "x = np.array(marathon_df['Age'])\n",
    "y = np.array(marathon_df['Result_sec'])\n",
    "\n",
    "coef_corr = np.corrcoef(x,y)\n",
    "coef_corr"
   ]
  },
  {
   "cell_type": "markdown",
   "id": "32728147",
   "metadata": {},
   "source": [
    "# Nivel 2"
   ]
  },
  {
   "cell_type": "markdown",
   "id": "251ca3dd",
   "metadata": {},
   "source": [
    "## Ejercicio 3"
   ]
  },
  {
   "cell_type": "markdown",
   "id": "dfc15013",
   "metadata": {},
   "source": [
    "### *Continuando con los datos de tema deportivo, calcula la correlacion de todos los atributos entre si i representalos en una matriz con diferentes colores de intensidad*"
   ]
  },
  {
   "cell_type": "code",
   "execution_count": 23,
   "id": "d9ebda01",
   "metadata": {},
   "outputs": [
    {
     "data": {
      "text/plain": [
       "<AxesSubplot:>"
      ]
     },
     "execution_count": 23,
     "metadata": {},
     "output_type": "execute_result"
    },
    {
     "data": {
      "image/png": "[encoded data removed]",
      "text/plain": [
       "<Figure size 432x288 with 2 Axes>"
      ]
     },
     "metadata": {
      "needs_background": "light"
     },
     "output_type": "display_data"
    }
   ],
   "source": [
    "import seaborn as sns\n",
    "\n",
    "corr = marathon_df.corr()\n",
    "sns.heatmap(corr, annot=True, annot_kws={\"size\": 15})"
   ]
  },
  {
   "cell_type": "markdown",
   "id": "2042c962",
   "metadata": {},
   "source": [
    "# Nivel 3"
   ]
  },
  {
   "cell_type": "markdown",
   "id": "48124ee5",
   "metadata": {},
   "source": [
    "## Ejercicio 4"
   ]
  },
  {
   "cell_type": "markdown",
   "id": "94edab62",
   "metadata": {},
   "source": [
    "### *Continuando con los datos de tema deportivo, selecciona un atributo y calcula la media geometrica y la media armonica*"
   ]
  },
  {
   "cell_type": "code",
   "execution_count": 32,
   "id": "eb4e8713",
   "metadata": {},
   "outputs": [],
   "source": [
    "import statistics as stats"
   ]
  },
  {
   "cell_type": "code",
   "execution_count": 33,
   "id": "e98e5038",
   "metadata": {
    "scrolled": true
   },
   "outputs": [
    {
     "name": "stdout",
     "output_type": "stream",
     "text": [
      "Age: 39.52758458618296\n",
      "Result_sec: 13499.418776425442\n"
     ]
    }
   ],
   "source": [
    "# media armonica\n",
    "x = np.array(marathon_df['Age'])\n",
    "y = np.array(marathon_df['Result_sec'])\n",
    "\n",
    "print(\"Age: \" + str(stats.harmonic_mean(x)))\n",
    "print(\"Result_sec: \" + str(stats.harmonic_mean(y)))"
   ]
  },
  {
   "cell_type": "code",
   "execution_count": 34,
   "id": "d561ecbc",
   "metadata": {},
   "outputs": [],
   "source": [
    "from scipy import stats"
   ]
  },
  {
   "cell_type": "code",
   "execution_count": 35,
   "id": "ed8004bf",
   "metadata": {},
   "outputs": [
    {
     "name": "stdout",
     "output_type": "stream",
     "text": [
      "Age: 41.18716947233696\n",
      "Result_sec: 13733.448891852462\n"
     ]
    }
   ],
   "source": [
    "# media geometrica\n",
    "x = np.array(marathon_df['Age'])\n",
    "y = np.array(marathon_df['Result_sec'])\n",
    "\n",
    "print(\"Age: \" + str(stats.gmean(x)))\n",
    "print(\"Result_sec: \" + str(stats.gmean(y)))"
   ]
  },
  {
   "cell_type": "code",
   "execution_count": null,
   "id": "b3f9f183",
   "metadata": {},
   "outputs": [],
   "source": []
  }
 ],
 "metadata": {
  "kernelspec": {
   "display_name": "Python 3",
   "language": "python",
   "name": "python3"
  },
  "language_info": {
   "codemirror_mode": {
    "name": "ipython",
    "version": 3
   },
   "file_extension": ".py",
   "mimetype": "text/x-python",
   "name": "python",
   "nbconvert_exporter": "python",
   "pygments_lexer": "ipython3",
   "version": "3.8.8"
  }
 },
 "nbformat": 4,
 "nbformat_minor": 5
}
