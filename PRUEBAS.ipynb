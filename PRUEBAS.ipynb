{
 "cells": [
  {
   "cell_type": "code",
   "execution_count": 1,
   "id": "6e39fd42",
   "metadata": {},
   "outputs": [],
   "source": [
    "import numpy as np\n",
    "import pandas as pd\n",
    "import math"
   ]
  },
  {
   "cell_type": "code",
   "execution_count": 2,
   "id": "0b1864ba",
   "metadata": {},
   "outputs": [
    {
     "data": {
      "text/html": [
       "<div>\n",
       "<style scoped>\n",
       "    .dataframe tbody tr th:only-of-type {\n",
       "        vertical-align: middle;\n",
       "    }\n",
       "\n",
       "    .dataframe tbody tr th {\n",
       "        vertical-align: top;\n",
       "    }\n",
       "\n",
       "    .dataframe thead th {\n",
       "        text-align: right;\n",
       "    }\n",
       "</style>\n",
       "<table border=\"1\" class=\"dataframe\">\n",
       "  <thead>\n",
       "    <tr style=\"text-align: right;\">\n",
       "      <th></th>\n",
       "      <th>Rank_Tot</th>\n",
       "      <th>Age</th>\n",
       "      <th>Gender</th>\n",
       "      <th>Country</th>\n",
       "      <th>Result_hr</th>\n",
       "      <th>Result_sec</th>\n",
       "      <th>Rank_Gender</th>\n",
       "      <th>Country_code</th>\n",
       "    </tr>\n",
       "  </thead>\n",
       "  <tbody>\n",
       "    <tr>\n",
       "      <th>0</th>\n",
       "      <td>1</td>\n",
       "      <td>30</td>\n",
       "      <td>M</td>\n",
       "      <td>Kenya</td>\n",
       "      <td>2:07:57</td>\n",
       "      <td>7677</td>\n",
       "      <td>1</td>\n",
       "      <td>KEN</td>\n",
       "    </tr>\n",
       "    <tr>\n",
       "      <th>1</th>\n",
       "      <td>2</td>\n",
       "      <td>29</td>\n",
       "      <td>M</td>\n",
       "      <td>Ethiopia</td>\n",
       "      <td>2:07:59</td>\n",
       "      <td>7679</td>\n",
       "      <td>2</td>\n",
       "      <td>ETH</td>\n",
       "    </tr>\n",
       "    <tr>\n",
       "      <th>2</th>\n",
       "      <td>3</td>\n",
       "      <td>34</td>\n",
       "      <td>M</td>\n",
       "      <td>Kenya</td>\n",
       "      <td>2:08:07</td>\n",
       "      <td>7687</td>\n",
       "      <td>3</td>\n",
       "      <td>KEN</td>\n",
       "    </tr>\n",
       "    <tr>\n",
       "      <th>3</th>\n",
       "      <td>4</td>\n",
       "      <td>32</td>\n",
       "      <td>M</td>\n",
       "      <td>Kenya</td>\n",
       "      <td>2:08:54</td>\n",
       "      <td>7734</td>\n",
       "      <td>4</td>\n",
       "      <td>KEN</td>\n",
       "    </tr>\n",
       "    <tr>\n",
       "      <th>4</th>\n",
       "      <td>5</td>\n",
       "      <td>26</td>\n",
       "      <td>M</td>\n",
       "      <td>Kenya</td>\n",
       "      <td>2:08:55</td>\n",
       "      <td>7735</td>\n",
       "      <td>5</td>\n",
       "      <td>KEN</td>\n",
       "    </tr>\n",
       "    <tr>\n",
       "      <th>...</th>\n",
       "      <td>...</td>\n",
       "      <td>...</td>\n",
       "      <td>...</td>\n",
       "      <td>...</td>\n",
       "      <td>...</td>\n",
       "      <td>...</td>\n",
       "      <td>...</td>\n",
       "      <td>...</td>\n",
       "    </tr>\n",
       "    <tr>\n",
       "      <th>26646</th>\n",
       "      <td>26640</td>\n",
       "      <td>44</td>\n",
       "      <td>F</td>\n",
       "      <td>United States</td>\n",
       "      <td>6:21:19</td>\n",
       "      <td>22879</td>\n",
       "      <td>11977</td>\n",
       "      <td>USA</td>\n",
       "    </tr>\n",
       "    <tr>\n",
       "      <th>26647</th>\n",
       "      <td>26641</td>\n",
       "      <td>50</td>\n",
       "      <td>F</td>\n",
       "      <td>United States</td>\n",
       "      <td>6:22:27</td>\n",
       "      <td>22947</td>\n",
       "      <td>11978</td>\n",
       "      <td>USA</td>\n",
       "    </tr>\n",
       "    <tr>\n",
       "      <th>26648</th>\n",
       "      <td>26648</td>\n",
       "      <td>32</td>\n",
       "      <td>F</td>\n",
       "      <td>United States</td>\n",
       "      <td>6:35:50</td>\n",
       "      <td>23750</td>\n",
       "      <td>11979</td>\n",
       "      <td>USA</td>\n",
       "    </tr>\n",
       "    <tr>\n",
       "      <th>26649</th>\n",
       "      <td>26650</td>\n",
       "      <td>55</td>\n",
       "      <td>F</td>\n",
       "      <td>United States</td>\n",
       "      <td>6:53:38</td>\n",
       "      <td>24818</td>\n",
       "      <td>11980</td>\n",
       "      <td>USA</td>\n",
       "    </tr>\n",
       "    <tr>\n",
       "      <th>26650</th>\n",
       "      <td>26652</td>\n",
       "      <td>46</td>\n",
       "      <td>F</td>\n",
       "      <td>United States</td>\n",
       "      <td>6:59:57</td>\n",
       "      <td>25197</td>\n",
       "      <td>11981</td>\n",
       "      <td>USA</td>\n",
       "    </tr>\n",
       "  </tbody>\n",
       "</table>\n",
       "<p>26651 rows × 8 columns</p>\n",
       "</div>"
      ],
      "text/plain": [
       "       Rank_Tot  Age Gender        Country Result_hr  Result_sec  Rank_Gender  \\\n",
       "0             1   30      M          Kenya   2:07:57        7677            1   \n",
       "1             2   29      M       Ethiopia   2:07:59        7679            2   \n",
       "2             3   34      M          Kenya   2:08:07        7687            3   \n",
       "3             4   32      M          Kenya   2:08:54        7734            4   \n",
       "4             5   26      M          Kenya   2:08:55        7735            5   \n",
       "...         ...  ...    ...            ...       ...         ...          ...   \n",
       "26646     26640   44      F  United States   6:21:19       22879        11977   \n",
       "26647     26641   50      F  United States   6:22:27       22947        11978   \n",
       "26648     26648   32      F  United States   6:35:50       23750        11979   \n",
       "26649     26650   55      F  United States   6:53:38       24818        11980   \n",
       "26650     26652   46      F  United States   6:59:57       25197        11981   \n",
       "\n",
       "      Country_code  \n",
       "0              KEN  \n",
       "1              ETH  \n",
       "2              KEN  \n",
       "3              KEN  \n",
       "4              KEN  \n",
       "...            ...  \n",
       "26646          USA  \n",
       "26647          USA  \n",
       "26648          USA  \n",
       "26649          USA  \n",
       "26650          USA  \n",
       "\n",
       "[26651 rows x 8 columns]"
      ]
     },
     "execution_count": 2,
     "metadata": {},
     "output_type": "execute_result"
    }
   ],
   "source": [
    "marathon_df = pd.read_csv('Dataset-Boston-2019.csv')\n",
    "marathon_df"
   ]
  },
  {
   "cell_type": "code",
   "execution_count": 3,
   "id": "70a6ecef",
   "metadata": {
    "scrolled": true
   },
   "outputs": [
    {
     "data": {
      "text/plain": [
       "0        30\n",
       "1        29\n",
       "2        34\n",
       "3        32\n",
       "4        26\n",
       "         ..\n",
       "26646    44\n",
       "26647    50\n",
       "26648    32\n",
       "26649    55\n",
       "26650    46\n",
       "Name: Age, Length: 26651, dtype: int64"
      ]
     },
     "execution_count": 3,
     "metadata": {},
     "output_type": "execute_result"
    }
   ],
   "source": [
    "Age_df = marathon_df['Age']\n",
    "Age_df"
   ]
  },
  {
   "cell_type": "markdown",
   "id": "973bb370",
   "metadata": {},
   "source": [
    "#### *Media aritmetica (mean)*"
   ]
  },
  {
   "cell_type": "code",
   "execution_count": 4,
   "id": "3aef971b",
   "metadata": {},
   "outputs": [],
   "source": [
    "# funcion\n",
    "def mean(dataset):\n",
    "    return sum(dataset) / len(dataset)"
   ]
  },
  {
   "cell_type": "code",
   "execution_count": 5,
   "id": "9e498385",
   "metadata": {},
   "outputs": [
    {
     "name": "stdout",
     "output_type": "stream",
     "text": [
      "42.79989493827624\n"
     ]
    }
   ],
   "source": [
    "print(mean(Age_df))"
   ]
  },
  {
   "cell_type": "code",
   "execution_count": 6,
   "id": "7f2e85bd",
   "metadata": {},
   "outputs": [
    {
     "name": "stdout",
     "output_type": "stream",
     "text": [
      "42.79989493827624\n"
     ]
    }
   ],
   "source": [
    "# modulo\n",
    "from statistics import mean\n",
    "\n",
    "print(mean(Age_df))"
   ]
  },
  {
   "cell_type": "markdown",
   "id": "e6075d8e",
   "metadata": {},
   "source": [
    "#### *Mediana*"
   ]
  },
  {
   "cell_type": "code",
   "execution_count": 17,
   "id": "bad8236c",
   "metadata": {},
   "outputs": [],
   "source": [
    "# funcion\n",
    "def median(dataset):\n",
    "    data = sorted(dataset)\n",
    "    index = len(dataset) // 2\n",
    "    \n",
    "    # si el dataset es impar  \n",
    "    if len(dataset) % 2 != 0:\n",
    "        return data[index]\n",
    "    \n",
    "    # si el dataset es par\n",
    "    return (dataset[index - 1] + dataset[index]) / 2"
   ]
  },
  {
   "cell_type": "code",
   "execution_count": 18,
   "id": "1a009719",
   "metadata": {},
   "outputs": [
    {
     "name": "stdout",
     "output_type": "stream",
     "text": [
      "43\n"
     ]
    }
   ],
   "source": [
    "print(median(Age_df))"
   ]
  },
  {
   "cell_type": "code",
   "execution_count": 9,
   "id": "f7fc9f47",
   "metadata": {},
   "outputs": [
    {
     "name": "stdout",
     "output_type": "stream",
     "text": [
      "43\n"
     ]
    }
   ],
   "source": [
    "# modulo\n",
    "from statistics import median\n",
    "\n",
    "print(median(Age_df))"
   ]
  },
  {
   "cell_type": "markdown",
   "id": "ad307a10",
   "metadata": {},
   "source": [
    "#### *Moda*"
   ]
  },
  {
   "cell_type": "code",
   "execution_count": 10,
   "id": "e5acc348",
   "metadata": {},
   "outputs": [],
   "source": [
    "# funcion\n",
    "def mode(dataset):\n",
    "    frequency = {}\n",
    "\n",
    "    for value in dataset:\n",
    "        frequency[value] = frequency.get(value, 0) + 1\n",
    "\n",
    "    most_frequent = max(frequency.values())\n",
    "\n",
    "    modes = [key for key, value in frequency.items()\n",
    "                      if value == most_frequent]\n",
    "\n",
    "    return mode"
   ]
  },
  {
   "cell_type": "code",
   "execution_count": 15,
   "id": "677dd2cc",
   "metadata": {},
   "outputs": [
    {
     "name": "stdout",
     "output_type": "stream",
     "text": [
      "45\n"
     ]
    }
   ],
   "source": [
    "print(mode(Age_df))"
   ]
  },
  {
   "cell_type": "code",
   "execution_count": 12,
   "id": "22d39e06",
   "metadata": {},
   "outputs": [
    {
     "name": "stdout",
     "output_type": "stream",
     "text": [
      "45\n"
     ]
    }
   ],
   "source": [
    "# modulo\n",
    "from statistics import mode\n",
    "\n",
    "print(mode(Age_df))"
   ]
  },
  {
   "cell_type": "markdown",
   "id": "1aeee8cd",
   "metadata": {},
   "source": [
    "#### *Desviacion estandard*"
   ]
  },
  {
   "cell_type": "code",
   "execution_count": 19,
   "id": "e37ddc65",
   "metadata": {},
   "outputs": [],
   "source": [
    "# funcion \n",
    "def st_dev(dataset):\n",
    "    mean = sum(dataset) / len(dataset)\n",
    "    var = sum((l-mean)**2 for l in dataset) / len(dataset)\n",
    "    st_dev = math.sqrt(var)\n",
    "    \n",
    "    return st_dev"
   ]
  },
  {
   "cell_type": "code",
   "execution_count": 20,
   "id": "3fb6c49a",
   "metadata": {},
   "outputs": [
    {
     "name": "stdout",
     "output_type": "stream",
     "text": [
      "11.537306695601352\n"
     ]
    }
   ],
   "source": [
    "print(st_dev(Age_df))"
   ]
  },
  {
   "cell_type": "code",
   "execution_count": 21,
   "id": "c90c1368",
   "metadata": {},
   "outputs": [
    {
     "name": "stdout",
     "output_type": "stream",
     "text": [
      "11.537306695601412\n"
     ]
    }
   ],
   "source": [
    "# modulo\n",
    "import statistics\n",
    "\n",
    "print(statistics.pstdev(Age_df))"
   ]
  },
  {
   "cell_type": "code",
   "execution_count": null,
   "id": "1e82cebb",
   "metadata": {},
   "outputs": [],
   "source": []
  }
 ],
 "metadata": {
  "kernelspec": {
   "display_name": "Python 3",
   "language": "python",
   "name": "python3"
  },
  "language_info": {
   "codemirror_mode": {
    "name": "ipython",
    "version": 3
   },
   "file_extension": ".py",
   "mimetype": "text/x-python",
   "name": "python",
   "nbconvert_exporter": "python",
   "pygments_lexer": "ipython3",
   "version": "3.8.8"
  }
 },
 "nbformat": 4,
 "nbformat_minor": 5
}
